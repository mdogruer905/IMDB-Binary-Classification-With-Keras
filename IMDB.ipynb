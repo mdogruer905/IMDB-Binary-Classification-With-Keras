{
  "nbformat": 4,
  "nbformat_minor": 0,
  "metadata": {
    "colab": {
      "name": "IMDB.ipynb",
      "provenance": [],
      "collapsed_sections": [],
      "authorship_tag": "ABX9TyNSk687BtFpkVTyNyy5JwK+",
      "include_colab_link": true
    },
    "kernelspec": {
      "name": "python3",
      "display_name": "Python 3"
    },
    "language_info": {
      "name": "python"
    },
    "accelerator": "GPU"
  },
  "cells": [
    {
      "cell_type": "markdown",
      "metadata": {
        "id": "view-in-github",
        "colab_type": "text"
      },
      "source": [
        "<a href=\"https://colab.research.google.com/github/mdogruer905/IMDB-Binary-Classification-With-Keras/blob/main/IMDB.ipynb\" target=\"_parent\"><img src=\"https://colab.research.google.com/assets/colab-badge.svg\" alt=\"Open In Colab\"/></a>"
      ]
    },
    {
      "cell_type": "markdown",
      "metadata": {
        "id": "mZekiMGTPeCX"
      },
      "source": [
        "# IMDB VERİ SETİ\n",
        "> 50000 Adet film kritiği içeren (Internet Movie Database) veri setini kullanacağız. 25000 örnek eğitim veri seti olarak, 25000 örnek ise test tabanı olarak kullanılmak üzere ikiye ayrılmıştır. İki sette de %50 olumlu kritik %50 olumsuz kritik bulunmaktadır."
      ]
    },
    {
      "cell_type": "code",
      "metadata": {
        "colab": {
          "base_uri": "https://localhost:8080/"
        },
        "id": "QxfH7en3PaOP",
        "outputId": "c2453da8-ad05-44fd-cf70-908dd011debd"
      },
      "source": [
        "from google.colab import drive\n",
        "drive.mount('/gdrive')\n",
        "% cd/gdrive"
      ],
      "execution_count": 1,
      "outputs": [
        {
          "output_type": "stream",
          "name": "stdout",
          "text": [
            "Mounted at /gdrive\n",
            "/gdrive\n"
          ]
        }
      ]
    },
    {
      "cell_type": "code",
      "metadata": {
        "colab": {
          "base_uri": "https://localhost:8080/"
        },
        "id": "RQAtdBcOQVrF",
        "outputId": "385153a8-43dd-432b-f819-3b4e252f87f3"
      },
      "source": [
        "from tensorflow.python.client import device_lib\n",
        "device_lib.list_local_devices()"
      ],
      "execution_count": 2,
      "outputs": [
        {
          "output_type": "execute_result",
          "data": {
            "text/plain": [
              "[name: \"/device:CPU:0\"\n",
              " device_type: \"CPU\"\n",
              " memory_limit: 268435456\n",
              " locality {\n",
              " }\n",
              " incarnation: 13828696352441479343, name: \"/device:GPU:0\"\n",
              " device_type: \"GPU\"\n",
              " memory_limit: 11344216064\n",
              " locality {\n",
              "   bus_id: 1\n",
              "   links {\n",
              "   }\n",
              " }\n",
              " incarnation: 7913128657042843842\n",
              " physical_device_desc: \"device: 0, name: Tesla K80, pci bus id: 0000:00:04.0, compute capability: 3.7\"]"
            ]
          },
          "metadata": {},
          "execution_count": 2
        }
      ]
    },
    {
      "cell_type": "code",
      "metadata": {
        "colab": {
          "base_uri": "https://localhost:8080/"
        },
        "id": "yP_rr6fZQb3q",
        "outputId": "dc7abf68-60dc-4fa9-968e-7b1d172dcc84"
      },
      "source": [
        "import keras\n",
        "from keras.datasets import imdb\n",
        "(train_data, train_labels), (test_data, test_labels) = imdb.load_data(num_words=10000)\n",
        "# num_words = En sık tekrar eden 10000 örneği saklayıp nadir örnekleri göz ardı ederiz"
      ],
      "execution_count": 3,
      "outputs": [
        {
          "output_type": "stream",
          "name": "stdout",
          "text": [
            "Downloading data from https://storage.googleapis.com/tensorflow/tf-keras-datasets/imdb.npz\n",
            "17465344/17464789 [==============================] - 0s 0us/step\n",
            "17473536/17464789 [==============================] - 0s 0us/step\n"
          ]
        }
      ]
    },
    {
      "cell_type": "code",
      "metadata": {
        "colab": {
          "base_uri": "https://localhost:8080/"
        },
        "id": "_F07S0YNQjgI",
        "outputId": "d99248c7-61fe-4cf2-ffa9-0f7f6bd74960"
      },
      "source": [
        "print('Eğitim Verisi:',train_data[0])"
      ],
      "execution_count": 4,
      "outputs": [
        {
          "output_type": "stream",
          "name": "stdout",
          "text": [
            "Eğitim Verisi: [1, 14, 22, 16, 43, 530, 973, 1622, 1385, 65, 458, 4468, 66, 3941, 4, 173, 36, 256, 5, 25, 100, 43, 838, 112, 50, 670, 2, 9, 35, 480, 284, 5, 150, 4, 172, 112, 167, 2, 336, 385, 39, 4, 172, 4536, 1111, 17, 546, 38, 13, 447, 4, 192, 50, 16, 6, 147, 2025, 19, 14, 22, 4, 1920, 4613, 469, 4, 22, 71, 87, 12, 16, 43, 530, 38, 76, 15, 13, 1247, 4, 22, 17, 515, 17, 12, 16, 626, 18, 2, 5, 62, 386, 12, 8, 316, 8, 106, 5, 4, 2223, 5244, 16, 480, 66, 3785, 33, 4, 130, 12, 16, 38, 619, 5, 25, 124, 51, 36, 135, 48, 25, 1415, 33, 6, 22, 12, 215, 28, 77, 52, 5, 14, 407, 16, 82, 2, 8, 4, 107, 117, 5952, 15, 256, 4, 2, 7, 3766, 5, 723, 36, 71, 43, 530, 476, 26, 400, 317, 46, 7, 4, 2, 1029, 13, 104, 88, 4, 381, 15, 297, 98, 32, 2071, 56, 26, 141, 6, 194, 7486, 18, 4, 226, 22, 21, 134, 476, 26, 480, 5, 144, 30, 5535, 18, 51, 36, 28, 224, 92, 25, 104, 4, 226, 65, 16, 38, 1334, 88, 12, 16, 283, 5, 16, 4472, 113, 103, 32, 15, 16, 5345, 19, 178, 32]\n"
          ]
        }
      ]
    },
    {
      "cell_type": "code",
      "metadata": {
        "colab": {
          "base_uri": "https://localhost:8080/"
        },
        "id": "HNmuqBd9RRiL",
        "outputId": "4c9eb697-d641-4d31-c920-107a7c88d483"
      },
      "source": [
        "print('Eğitim Etiketleri:',train_labels)\n",
        "#[0] Olumsuz Kriter, [1]olumlu Kriterleri Temsil Eder"
      ],
      "execution_count": 5,
      "outputs": [
        {
          "output_type": "stream",
          "name": "stdout",
          "text": [
            "Eğitim Etiketleri: [1 0 0 ... 0 1 0]\n"
          ]
        }
      ]
    },
    {
      "cell_type": "markdown",
      "metadata": {
        "id": "jrbTEs61Rl3k"
      },
      "source": [
        "### En çok kullanılan 10000 kritiği kullanacağınız için hiçbir kelime indeksi 10000'i geçmeyecektir."
      ]
    },
    {
      "cell_type": "code",
      "metadata": {
        "colab": {
          "base_uri": "https://localhost:8080/"
        },
        "id": "fvtKcY8LRirB",
        "outputId": "368a6445-039a-4f3a-bffa-1e37563363e0"
      },
      "source": [
        "max([max(sequence) for sequence in train_data])"
      ],
      "execution_count": 6,
      "outputs": [
        {
          "output_type": "execute_result",
          "data": {
            "text/plain": [
              "9999"
            ]
          },
          "metadata": {},
          "execution_count": 6
        }
      ]
    },
    {
      "cell_type": "markdown",
      "metadata": {
        "id": "1cNsauIZ-8Gl"
      },
      "source": [
        "# Data Preparation (Verileri Hazırlama İşlemi)\n",
        "İçerisinde sayı bulunan listeleri sinir ağlarına gönderilmez. Listelere tensörlere dönüştürme işlemi yapılmalıdır"
      ]
    },
    {
      "cell_type": "code",
      "metadata": {
        "id": "b5JtTFocXNS5"
      },
      "source": [
        "import numpy as np\n",
        "def vectorize_sequences(sequences, dimension=10000):\n",
        "    ##(len(sequences), dimension) şeklinde tüm elemanları sıfır olan matris oluşturur\n",
        "    results = np.zeros((len(sequences), dimension))\n",
        "    for i, sequence in enumerate(sequences):\n",
        "       results[i, sequence] = 1. #results[i]'nin istenen indekselerini 1 yapar\n",
        "    return results\n",
        "\n",
        "x_train = vectorize_sequences(train_data) # Eğitim vektör verisi\n",
        "x_test = vectorize_sequences(test_data) # Test vektör verisi"
      ],
      "execution_count": 7,
      "outputs": []
    },
    {
      "cell_type": "code",
      "metadata": {
        "colab": {
          "base_uri": "https://localhost:8080/"
        },
        "id": "oz5hByGHYDQg",
        "outputId": "728ed370-9f2b-424d-9ed1-3c0027586d05"
      },
      "source": [
        "x_train[0]"
      ],
      "execution_count": 8,
      "outputs": [
        {
          "output_type": "execute_result",
          "data": {
            "text/plain": [
              "array([0., 1., 1., ..., 0., 0., 0.])"
            ]
          },
          "metadata": {},
          "execution_count": 8
        }
      ]
    },
    {
      "cell_type": "code",
      "metadata": {
        "id": "ndGkrNOBV99d"
      },
      "source": [
        "y_train = np.asarray(train_labels).astype('float32')\n",
        "y_test = np.asarray(test_labels).astype('float32')"
      ],
      "execution_count": 9,
      "outputs": []
    },
    {
      "cell_type": "markdown",
      "metadata": {
        "id": "nICEPq3iAYBm"
      },
      "source": [
        "# Model Creating"
      ]
    },
    {
      "cell_type": "code",
      "metadata": {
        "id": "ouUK2bygYGzw"
      },
      "source": [
        "from keras import models\n",
        "from keras import layers\n",
        "\n",
        "model = models.Sequential()\n",
        "model.add(layers.Dense(16, activation='relu',input_shape=(10000,)))\n",
        "model.add(layers.Dense(16,activation='relu'))\n",
        "model.add(layers.Dense(1,activation='sigmoid'))"
      ],
      "execution_count": 10,
      "outputs": []
    },
    {
      "cell_type": "code",
      "metadata": {
        "id": "_lN3RhS7BJoX"
      },
      "source": [
        "#Modelin Derlenmesi\n",
        "model.compile(optimizer='rmsprop',\n",
        "              loss='binary_crossentropy',\n",
        "              metrics=['accuracy'])\n"
      ],
      "execution_count": 11,
      "outputs": []
    },
    {
      "cell_type": "code",
      "metadata": {
        "id": "U_up0IzFB4ux"
      },
      "source": [
        "#En iyileme Algoritmasının ayarlanması\n",
        "from tensorflow.keras import optimizers\n",
        "\n",
        "model.compile(optimizer= optimizers.RMSprop(learning_rate=0.001),\n",
        "              loss='binary_crossentropy',\n",
        "              metrics =['accuracy'])"
      ],
      "execution_count": 12,
      "outputs": []
    },
    {
      "cell_type": "code",
      "metadata": {
        "id": "OAWUv9ZrCUsS"
      },
      "source": [
        "#Kendi kayıp fonksiyonunu ve metriklerini tanımlamak\n",
        "from keras import losses\n",
        "from keras import metrics\n",
        "\n",
        "model.compile(optimizer= optimizers.RMSprop(learning_rate=0.001),\n",
        "              loss=losses.binary_crossentropy,\n",
        "              metrics =[metrics.binary_accuracy])"
      ],
      "execution_count": 13,
      "outputs": []
    },
    {
      "cell_type": "markdown",
      "metadata": {
        "id": "55N8Akr-DZAV"
      },
      "source": [
        "# Doğrulama Veri Seti Oluşturma"
      ]
    },
    {
      "cell_type": "code",
      "metadata": {
        "id": "s0bSOdy5DVR0"
      },
      "source": [
        "x_val = x_train[:10000]\n",
        "partial_x_train = x_train[10000:]\n",
        "\n",
        "\n",
        "y_val = y_train[:10000]\n",
        "partial_y_train = y_train[10000:]"
      ],
      "execution_count": 14,
      "outputs": []
    },
    {
      "cell_type": "code",
      "metadata": {
        "colab": {
          "base_uri": "https://localhost:8080/"
        },
        "id": "5wO-p5_NES_q",
        "outputId": "446df9fb-a0fe-41fd-f1be-603cbf187a73"
      },
      "source": [
        "model.compile(optimizer='rmsprop',\n",
        "              loss='binary_crossentropy',\n",
        "              metrics=['accuracy'])\n",
        "\n",
        "history = model.fit(partial_x_train,\n",
        "                    partial_y_train,\n",
        "                    epochs =20,\n",
        "                    batch_size=512,\n",
        "                    validation_data =(x_val,y_val))"
      ],
      "execution_count": 15,
      "outputs": [
        {
          "output_type": "stream",
          "name": "stdout",
          "text": [
            "Epoch 1/20\n",
            "30/30 [==============================] - 5s 42ms/step - loss: 0.5071 - accuracy: 0.7887 - val_loss: 0.3857 - val_accuracy: 0.8630\n",
            "Epoch 2/20\n",
            "30/30 [==============================] - 1s 20ms/step - loss: 0.2962 - accuracy: 0.9073 - val_loss: 0.2986 - val_accuracy: 0.8888\n",
            "Epoch 3/20\n",
            "30/30 [==============================] - 1s 21ms/step - loss: 0.2179 - accuracy: 0.9280 - val_loss: 0.3154 - val_accuracy: 0.8696\n",
            "Epoch 4/20\n",
            "30/30 [==============================] - 1s 21ms/step - loss: 0.1733 - accuracy: 0.9440 - val_loss: 0.2758 - val_accuracy: 0.8872\n",
            "Epoch 5/20\n",
            "30/30 [==============================] - 1s 20ms/step - loss: 0.1416 - accuracy: 0.9551 - val_loss: 0.2858 - val_accuracy: 0.8866\n",
            "Epoch 6/20\n",
            "30/30 [==============================] - 1s 20ms/step - loss: 0.1169 - accuracy: 0.9643 - val_loss: 0.2969 - val_accuracy: 0.8842\n",
            "Epoch 7/20\n",
            "30/30 [==============================] - 1s 20ms/step - loss: 0.0968 - accuracy: 0.9700 - val_loss: 0.3118 - val_accuracy: 0.8825\n",
            "Epoch 8/20\n",
            "30/30 [==============================] - 1s 20ms/step - loss: 0.0821 - accuracy: 0.9767 - val_loss: 0.3593 - val_accuracy: 0.8722\n",
            "Epoch 9/20\n",
            "30/30 [==============================] - 1s 19ms/step - loss: 0.0679 - accuracy: 0.9817 - val_loss: 0.3562 - val_accuracy: 0.8788\n",
            "Epoch 10/20\n",
            "30/30 [==============================] - 1s 20ms/step - loss: 0.0546 - accuracy: 0.9863 - val_loss: 0.4024 - val_accuracy: 0.8726\n",
            "Epoch 11/20\n",
            "30/30 [==============================] - 1s 19ms/step - loss: 0.0476 - accuracy: 0.9887 - val_loss: 0.4012 - val_accuracy: 0.8751\n",
            "Epoch 12/20\n",
            "30/30 [==============================] - 1s 20ms/step - loss: 0.0355 - accuracy: 0.9932 - val_loss: 0.5096 - val_accuracy: 0.8607\n",
            "Epoch 13/20\n",
            "30/30 [==============================] - 1s 19ms/step - loss: 0.0305 - accuracy: 0.9947 - val_loss: 0.4587 - val_accuracy: 0.8719\n",
            "Epoch 14/20\n",
            "30/30 [==============================] - 1s 20ms/step - loss: 0.0271 - accuracy: 0.9941 - val_loss: 0.4885 - val_accuracy: 0.8727\n",
            "Epoch 15/20\n",
            "30/30 [==============================] - 1s 20ms/step - loss: 0.0182 - accuracy: 0.9979 - val_loss: 0.5251 - val_accuracy: 0.8669\n",
            "Epoch 16/20\n",
            "30/30 [==============================] - 1s 20ms/step - loss: 0.0166 - accuracy: 0.9977 - val_loss: 0.5558 - val_accuracy: 0.8672\n",
            "Epoch 17/20\n",
            "30/30 [==============================] - 1s 19ms/step - loss: 0.0142 - accuracy: 0.9977 - val_loss: 0.5882 - val_accuracy: 0.8679\n",
            "Epoch 18/20\n",
            "30/30 [==============================] - 1s 24ms/step - loss: 0.0077 - accuracy: 0.9995 - val_loss: 0.6364 - val_accuracy: 0.8664\n",
            "Epoch 19/20\n",
            "30/30 [==============================] - 1s 19ms/step - loss: 0.0114 - accuracy: 0.9976 - val_loss: 0.6592 - val_accuracy: 0.8651\n",
            "Epoch 20/20\n",
            "30/30 [==============================] - 1s 19ms/step - loss: 0.0042 - accuracy: 0.9999 - val_loss: 0.6850 - val_accuracy: 0.8633\n"
          ]
        }
      ]
    },
    {
      "cell_type": "code",
      "metadata": {
        "colab": {
          "base_uri": "https://localhost:8080/"
        },
        "id": "9lXOR5OcEzbs",
        "outputId": "47b06f6a-152e-47cd-f0b7-b7b21831187e"
      },
      "source": [
        "#Keyword list\n",
        "history_dict = history.history\n",
        "history_dict.keys()"
      ],
      "execution_count": 16,
      "outputs": [
        {
          "output_type": "execute_result",
          "data": {
            "text/plain": [
              "dict_keys(['loss', 'accuracy', 'val_loss', 'val_accuracy'])"
            ]
          },
          "metadata": {},
          "execution_count": 16
        }
      ]
    },
    {
      "cell_type": "markdown",
      "metadata": {
        "id": "n70daeonFYRP"
      },
      "source": [
        "# Eğitim ve Doğruluk kayıpları"
      ]
    },
    {
      "cell_type": "code",
      "metadata": {
        "colab": {
          "base_uri": "https://localhost:8080/",
          "height": 294
        },
        "id": "IG57HW5xFQF9",
        "outputId": "94e17e78-ed30-4fea-da1e-e50ecc1dc736"
      },
      "source": [
        "import matplotlib.pyplot as plt\n",
        "\n",
        "history_dict = history.history\n",
        "loss_values = history_dict['loss']\n",
        "val_loss_values = history_dict['val_loss']\n",
        "epoch = range(1,len(loss_values) +1)\n",
        "\n",
        "plt.plot(epoch,loss_values,'bo',label = 'Eğitim Kaybı')\n",
        "plt.plot(epoch,val_loss_values,'b',label = 'Doğruluk Kaybı')\n",
        "plt.title('Eğitim ve Doğruluk Kaybı')\n",
        "plt.xlabel('Epochs')\n",
        "plt.ylabel('Loss')\n",
        "plt.legend(loc=0)\n",
        "plt.show()"
      ],
      "execution_count": 17,
      "outputs": [
        {
          "output_type": "display_data",
          "data": {
            "image/png": "[encoded data removed]",
            "text/plain": [
              "<Figure size 432x288 with 1 Axes>"
            ]
          },
          "metadata": {
            "needs_background": "light"
          }
        }
      ]
    },
    {
      "cell_type": "markdown",
      "metadata": {
        "id": "5JOvkuosGz4u"
      },
      "source": [
        "# Eğitim ve Doğrulama Başarımını Çizdirmek"
      ]
    },
    {
      "cell_type": "code",
      "metadata": {
        "colab": {
          "base_uri": "https://localhost:8080/",
          "height": 294
        },
        "id": "F1Z2jaM2Glhl",
        "outputId": "584931a2-c08b-4301-8292-c8637c442e46"
      },
      "source": [
        "acc = history_dict['accuracy']\n",
        "val_acc = history_dict['val_accuracy']\n",
        "\n",
        "plt.plot(epoch, acc,'bo',label = 'Eğitim Başarımı')\n",
        "plt.plot(epoch,val_acc,'b',label = 'Doğruluk Başarımı')\n",
        "plt.title('Eğitim ve Doğruluk Başarımı')\n",
        "plt.xlabel('Epochs')\n",
        "plt.ylabel('Loss')\n",
        "plt.legend(loc=0)\n",
        "plt.show()"
      ],
      "execution_count": 18,
      "outputs": [
        {
          "output_type": "display_data",
          "data": {
            "image/png": "[encoded data removed]",
            "text/plain": [
              "<Figure size 432x288 with 1 Axes>"
            ]
          },
          "metadata": {
            "needs_background": "light"
          }
        }
      ]
    },
    {
      "cell_type": "markdown",
      "metadata": {
        "id": "2NbQySo94EYS"
      },
      "source": [
        "# Modeli En Baştan Eğitmek"
      ]
    },
    {
      "cell_type": "code",
      "metadata": {
        "colab": {
          "base_uri": "https://localhost:8080/"
        },
        "id": "4PwFkLzZ4G5k",
        "outputId": "70303ff8-6e22-4c12-9279-50ed82132ebd"
      },
      "source": [
        "model = models.Sequential()\n",
        "model.add(layers.Dense(16,activation='relu',input_shape=(10000,)))\n",
        "model.add(layers.Dense(16,activation='relu'))\n",
        "model.add(layers.Dense(1,activation='sigmoid'))\n",
        "\n",
        "model.compile(optimizer='rmsprop',\n",
        "              loss='binary_crossentropy',\n",
        "              metrics=['accuracy'])\n",
        "\n",
        "model.fit(x_train,y_train,epochs=4,batch_size=512)\n",
        "results = model.evaluate(x_test,y_test)\n"
      ],
      "execution_count": 19,
      "outputs": [
        {
          "output_type": "stream",
          "name": "stdout",
          "text": [
            "Epoch 1/4\n",
            "49/49 [==============================] - 1s 13ms/step - loss: 0.4471 - accuracy: 0.8201\n",
            "Epoch 2/4\n",
            "49/49 [==============================] - 1s 13ms/step - loss: 0.2580 - accuracy: 0.9104\n",
            "Epoch 3/4\n",
            "49/49 [==============================] - 1s 13ms/step - loss: 0.1969 - accuracy: 0.9308\n",
            "Epoch 4/4\n",
            "49/49 [==============================] - 1s 13ms/step - loss: 0.1652 - accuracy: 0.9410\n",
            "782/782 [==============================] - 3s 3ms/step - loss: 0.2944 - accuracy: 0.8841\n"
          ]
        }
      ]
    },
    {
      "cell_type": "code",
      "metadata": {
        "colab": {
          "base_uri": "https://localhost:8080/"
        },
        "id": "LzUDmd3G5BXd",
        "outputId": "308c5bd3-3926-4bb8-e350-cba9930708b4"
      },
      "source": [
        "#Sonuçların Görüntülenmesi\n",
        "\n",
        "print(\"Kayıp Fonksiyonu\",results[0],\"Doğruluk\",results[1])"
      ],
      "execution_count": 20,
      "outputs": [
        {
          "output_type": "stream",
          "name": "stdout",
          "text": [
            "Kayıp Fonksiyonu 0.2944354712963104 Doğruluk 0.8840799927711487\n"
          ]
        }
      ]
    }
  ]
}